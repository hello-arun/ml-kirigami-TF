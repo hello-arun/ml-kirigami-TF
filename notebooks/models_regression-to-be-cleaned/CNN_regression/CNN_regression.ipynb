{
  "cells": [
    {
      "cell_type": "code",
      "execution_count": 1,
      "metadata": {
        "colab": {
          "base_uri": "https://localhost:8080/"
        },
        "id": "dZG149sjfrvS",
        "outputId": "501abe12-6c61-4773-a6ce-0edd91ba40ec"
      },
      "outputs": [
        {
          "name": "stdout",
          "output_type": "stream",
          "text": [
            "2.8.2\n"
          ]
        }
      ],
      "source": [
        "# %tensorflow_version 2.x  # this line is not required unless you are in a notebook\n",
        "import tensorflow as tf\n",
        "print(tf.__version__)\n",
        "from tensorflow.keras import datasets, layers, models\n",
        "import matplotlib.pyplot as plt\n",
        "import numpy as np\n",
        "import os\n",
        "PROJECT_DIR = \"../../../\""
      ]
    },
    {
      "cell_type": "markdown",
      "metadata": {
        "id": "8ejWJTvRsUIz"
      },
      "source": [
        "## Helper class"
      ]
    },
    {
      "cell_type": "code",
      "execution_count": 2,
      "metadata": {
        "id": "OJHFWAjkhHj0"
      },
      "outputs": [],
      "source": [
        "class Helper:\n",
        "    import numpy as np\n",
        "\n",
        "    def make_fine_grid(self,raw_data, n_corse_x = 3, n_corse_y = 5, n_fine_x = 30, n_fine_y = 80):\n",
        "        listFG = []  # List Fine Grid\n",
        "        for i in range(len(raw_data)):\n",
        "            kirigami_config = raw_data[i, 0:15]\n",
        "            inner_wCuts = self.corse_to_fine_config(\n",
        "                kirigami_config, n_corse_x, n_corse_y, n_fine_x, n_fine_y)\n",
        "            listFG.append(inner_wCuts)\n",
        "\n",
        "        alldata_FG = np.array(listFG)\n",
        "        alldata_FG = np.append(alldata_FG, raw_data[:, -3:], 1)\n",
        "        return alldata_FG\n",
        "\n",
        "    def corse_to_fine_config(self,kirigami_config, n_corse_x, n_corse_y, n_fine_x, n_fine_y):\n",
        "        \"\"\"\n",
        "        Make Fine Grid using corse grid\n",
        "        0 5 10     0  80  160 ... 2320\n",
        "        1 6 11     .  .    .  ... .\n",
        "        2 7 12  => .  .    .  ... .\n",
        "        3 8 13     .  .    .  ... .\n",
        "        4 9 14     79 159 239 ... 2399\n",
        "\n",
        "        Parameters\n",
        "        --------------------\n",
        "        kirigami_config: Corse Kirigami config of size n_corse_x * n_corse_y\n",
        "        return: Fine grid 1D array of size n_fine_x*n_fine_y\n",
        "        \"\"\"\n",
        "        inner = np.ones(n_fine_x*n_fine_y)\n",
        "        mx, my = n_fine_x//n_corse_x, n_fine_y//n_corse_y  # 10 16\n",
        "\n",
        "        # ONLY MAKE CUTS inside the INNER REGION !!\n",
        "        for i in range(len(inner)):\n",
        "            # i = 31\n",
        "            # index in fine grid array\n",
        "            i_fine_x = i//n_fine_y  # 0\n",
        "            i_fine_y = i % n_fine_y  # 31\n",
        "\n",
        "            # corresponding index in corse grid array\n",
        "            i_corse_x = i_fine_x//mx  # 0\n",
        "            i_corse_y = i_fine_y//my  # 1\n",
        "\n",
        "            # convert back (Nx, Ny) to one dimensional and check whether it's 0 or 1\n",
        "            index = i_corse_x * n_corse_y + i_corse_y\n",
        "\n",
        "            # cuts orthogonal to the loading\n",
        "            if (kirigami_config[index] == 0):\n",
        "                # We only want to remove unit cell at index 4 5 and 6\n",
        "                if i_fine_x > i_corse_x * mx + mx/3 and i_fine_x < i_corse_x * mx + mx * 2/3:\n",
        "                    inner[i] = 0\n",
        "            # # cuts parallel to the loading\n",
        "            # if (kirigami_config[index] == -1):\n",
        "            #     if ny > Ny * my + my/3 and ny < Ny * my + my * 2/3:\n",
        "            #         inner[i] = 0\n",
        "        return inner\n",
        "\n",
        "    def split_data(self,x, y, frac_training, frac_test):\n",
        "        \"\"\"\n",
        "        Parameters\n",
        "        ----------------------------\n",
        "        x: numpy matrix \n",
        "        y: numpy array\n",
        "        percentage_test: float \n",
        "            percentage of data to be set for test set\n",
        "        Return\n",
        "        -------------------\n",
        "        X_train, X_valid, X_test, y_train, y_valid, y_test\n",
        "\n",
        "        \"\"\"\n",
        "        frac_valid = 1 - frac_training - frac_test\n",
        "        ntrain = int(frac_training * len(x))\n",
        "        nvalid = int(frac_valid * len(x))\n",
        "        # ntest = int(frac_test * len(x))\n",
        "\n",
        "        X_train = x[:ntrain].reshape((-1,30,80,1))\n",
        "        X_valid = x[ntrain:ntrain+nvalid].reshape((-1,30,80,1))\n",
        "        X_test = x[ntrain+nvalid:].reshape((-1,30,80,1))\n",
        "\n",
        "        y_train = y[:ntrain]\n",
        "        y_valid = y[ntrain:ntrain+nvalid]\n",
        "        y_test =  y[ntrain+nvalid:]\n",
        "        # [:,np.newaxis] to convert it to column array\n",
        "        return X_train, X_valid, X_test, y_train[:,np.newaxis], y_valid[:,np.newaxis], y_test[:,np.newaxis]\n",
        "helper = Helper()"
      ]
    },
    {
      "cell_type": "markdown",
      "metadata": {
        "id": "2uY0bE0GsiZf"
      },
      "source": []
    },
    {
      "cell_type": "markdown",
      "metadata": {
        "id": "9S70acHFspzh"
      },
      "source": [
        "## Prepare Dataset\n",
        "We conver coarse grid data to fine grid data using helper class"
      ]
    },
    {
      "cell_type": "code",
      "execution_count": 3,
      "metadata": {
        "id": "dGaSVmR3gI56"
      },
      "outputs": [],
      "source": [
        "# alldata_15G = np.loadtxt(f'{PROJECT_DIR}/raw/alldata_15G.dat')\n",
        "# alldata_FG  = helper.make_fine_grid(alldata_15G)\n",
        "# format = \"%i \"*2400 + \"%f %f %f\"\n",
        "# np.savetxt(f\"{PROJECT_DIR}/processed/alldata_FG.dat\",alldata_FG,fmt=format)"
      ]
    },
    {
      "cell_type": "markdown",
      "metadata": {
        "id": "dyXjRiNYs1DS"
      },
      "source": [
        "## Directly load processed data"
      ]
    },
    {
      "cell_type": "code",
      "execution_count": 4,
      "metadata": {
        "id": "n1CA5DRzsJJa"
      },
      "outputs": [],
      "source": [
        "alldata_FG = np.loadtxt(f'{PROJECT_DIR}/processed/alldata_FG.dat')"
      ]
    },
    {
      "cell_type": "markdown",
      "metadata": {
        "id": "VeOarrgEtfVi"
      },
      "source": [
        "## Split Test Train"
      ]
    },
    {
      "cell_type": "code",
      "execution_count": 5,
      "metadata": {
        "colab": {
          "base_uri": "https://localhost:8080/"
        },
        "id": "yC46CrU4tlWM",
        "outputId": "137e0969-375e-48cd-a0aa-8c4a3df1abcd"
      },
      "outputs": [
        {
          "name": "stdout",
          "output_type": "stream",
          "text": [
            "Training 23832\n",
            "Validation 2979\n",
            "Testing 2980\n",
            "(23832, 30, 80, 1) (23832, 1)\n"
          ]
        }
      ],
      "source": [
        "__FEATURES = 2400\n",
        "__STRAIN_INDEX = 2400\n",
        "__STRESS_INDEX = 2400+2\n",
        "X_train, X_valid, X_test, y_train, y_valid, y_test = helper.split_data(alldata_FG[:,0:__FEATURES], alldata_FG[:,__STRAIN_INDEX], 0.8, 0.1)\n",
        "print(\"Training\",len(X_train))\n",
        "print(\"Validation\",len(X_valid))\n",
        "print(\"Testing\",len(X_test))\n",
        "print(X_train.shape,y_train.shape)"
      ]
    },
    {
      "cell_type": "markdown",
      "metadata": {
        "id": "Cuxttlngu3Kh"
      },
      "source": [
        "## Regression Model"
      ]
    },
    {
      "cell_type": "code",
      "execution_count": 6,
      "metadata": {
        "id": "7c5g_aqMu5dh"
      },
      "outputs": [],
      "source": [
        "n_hidden=4\n",
        "model = models.Sequential()\n",
        "# Filters:16, Kernal:3x3\n",
        "model.add(layers.Conv2D(\n",
        "    input_shape = (30,80,1),\n",
        "    filters = 16,\n",
        "    kernel_size = [3,3],\n",
        "    padding=\"same\",\n",
        "    activation=\"relu\"))\n",
        "# Max Pooling, kernel:2x2, strides:2 \n",
        "model.add(layers.MaxPooling2D((2,2),2))\n",
        "# Filters:32, Kernal:3x3\n",
        "model.add(layers.Conv2D(32,(3,3),activation=\"relu\"))\n",
        "# Max Pooling, kernel:2x2, strides:2 \n",
        "model.add(layers.MaxPooling2D((2,2),2))\n",
        "# Filters:64, Kernal:3x3\n",
        "model.add(layers.Conv2D(64,(3,3),activation=\"relu\"))\n",
        "# Max Pooling, kernel:2x2, strides:2 \n",
        "model.add(layers.MaxPooling2D((2,2),2))\n",
        "\n",
        "# Flatten for the fully connected layer\n",
        "model.add(layers.Flatten())\n",
        "# Fully connected layer 64:Neuron\n",
        "model.add(layers.Dense(n_hidden,activation=\"relu\"))\n",
        "model.add(layers.Dense(1,activation=\"relu\"))"
      ]
    },
    {
      "cell_type": "code",
      "execution_count": 7,
      "metadata": {
        "colab": {
          "base_uri": "https://localhost:8080/"
        },
        "id": "17mNOZOyysvk",
        "outputId": "8fecd3e4-c2ac-44d2-a539-8e277a8dc40a"
      },
      "outputs": [
        {
          "name": "stdout",
          "output_type": "stream",
          "text": [
            "Model: \"sequential\"\n",
            "_________________________________________________________________\n",
            " Layer (type)                Output Shape              Param #   \n",
            "=================================================================\n",
            " conv2d (Conv2D)             (None, 30, 80, 16)        160       \n",
            "                                                                 \n",
            " max_pooling2d (MaxPooling2D  (None, 15, 40, 16)       0         \n",
            " )                                                               \n",
            "                                                                 \n",
            " conv2d_1 (Conv2D)           (None, 13, 38, 32)        4640      \n",
            "                                                                 \n",
            " max_pooling2d_1 (MaxPooling  (None, 6, 19, 32)        0         \n",
            " 2D)                                                             \n",
            "                                                                 \n",
            " conv2d_2 (Conv2D)           (None, 4, 17, 64)         18496     \n",
            "                                                                 \n",
            " max_pooling2d_2 (MaxPooling  (None, 2, 8, 64)         0         \n",
            " 2D)                                                             \n",
            "                                                                 \n",
            " flatten (Flatten)           (None, 1024)              0         \n",
            "                                                                 \n",
            " dense (Dense)               (None, 4)                 4100      \n",
            "                                                                 \n",
            " dense_1 (Dense)             (None, 1)                 5         \n",
            "                                                                 \n",
            "=================================================================\n",
            "Total params: 27,401\n",
            "Trainable params: 27,401\n",
            "Non-trainable params: 0\n",
            "_________________________________________________________________\n"
          ]
        }
      ],
      "source": [
        "model.summary()"
      ]
    },
    {
      "cell_type": "code",
      "execution_count": null,
      "metadata": {
        "colab": {
          "base_uri": "https://localhost:8080/"
        },
        "id": "33tWPlxnzNhz",
        "outputId": "4db96930-20a8-4e7b-f36e-8b60d1c558fa"
      },
      "outputs": [
        {
          "name": "stdout",
          "output_type": "stream",
          "text": [
            "Epoch 1/300\n",
            "120/120 [==============================] - 7s 53ms/step - loss: 0.0063 - mean_squared_error: 0.0063 - val_loss: 0.0067 - val_mean_squared_error: 0.0067\n",
            "Epoch 2/300\n",
            "120/120 [==============================] - 6s 50ms/step - loss: 0.0060 - mean_squared_error: 0.0060 - val_loss: 0.0064 - val_mean_squared_error: 0.0064\n",
            "Epoch 3/300\n",
            "120/120 [==============================] - 6s 53ms/step - loss: 0.0058 - mean_squared_error: 0.0058 - val_loss: 0.0063 - val_mean_squared_error: 0.0063\n",
            "Epoch 4/300\n",
            "120/120 [==============================] - 6s 53ms/step - loss: 0.0057 - mean_squared_error: 0.0057 - val_loss: 0.0061 - val_mean_squared_error: 0.0061\n",
            "Epoch 5/300\n",
            "120/120 [==============================] - 6s 50ms/step - loss: 0.0056 - mean_squared_error: 0.0056 - val_loss: 0.0062 - val_mean_squared_error: 0.0062\n",
            "Epoch 6/300\n",
            "120/120 [==============================] - 6s 50ms/step - loss: 0.0056 - mean_squared_error: 0.0056 - val_loss: 0.0061 - val_mean_squared_error: 0.0061\n",
            "Epoch 7/300\n",
            "120/120 [==============================] - 6s 53ms/step - loss: 0.0055 - mean_squared_error: 0.0055 - val_loss: 0.0061 - val_mean_squared_error: 0.0061\n",
            "Epoch 8/300\n",
            "120/120 [==============================] - 6s 53ms/step - loss: 0.0055 - mean_squared_error: 0.0055 - val_loss: 0.0060 - val_mean_squared_error: 0.0060\n",
            "Epoch 9/300\n",
            "120/120 [==============================] - 6s 53ms/step - loss: 0.0054 - mean_squared_error: 0.0054 - val_loss: 0.0061 - val_mean_squared_error: 0.0061\n",
            "Epoch 10/300\n",
            "120/120 [==============================] - 6s 53ms/step - loss: 0.0054 - mean_squared_error: 0.0054 - val_loss: 0.0060 - val_mean_squared_error: 0.0060\n",
            "Epoch 11/300\n",
            "120/120 [==============================] - 6s 50ms/step - loss: 0.0054 - mean_squared_error: 0.0054 - val_loss: 0.0062 - val_mean_squared_error: 0.0062\n",
            "Epoch 12/300\n",
            "120/120 [==============================] - 6s 50ms/step - loss: 0.0054 - mean_squared_error: 0.0054 - val_loss: 0.0062 - val_mean_squared_error: 0.0062\n",
            "Epoch 13/300\n",
            "120/120 [==============================] - 6s 50ms/step - loss: 0.0053 - mean_squared_error: 0.0053 - val_loss: 0.0061 - val_mean_squared_error: 0.0061\n",
            "Epoch 14/300\n",
            "120/120 [==============================] - 6s 53ms/step - loss: 0.0054 - mean_squared_error: 0.0054 - val_loss: 0.0059 - val_mean_squared_error: 0.0059\n",
            "Epoch 15/300\n",
            "120/120 [==============================] - 6s 50ms/step - loss: 0.0053 - mean_squared_error: 0.0053 - val_loss: 0.0061 - val_mean_squared_error: 0.0061\n",
            "Epoch 16/300\n",
            "120/120 [==============================] - 6s 50ms/step - loss: 0.0053 - mean_squared_error: 0.0053 - val_loss: 0.0063 - val_mean_squared_error: 0.0063\n",
            "Epoch 17/300\n",
            "120/120 [==============================] - 6s 51ms/step - loss: 0.0053 - mean_squared_error: 0.0053 - val_loss: 0.0058 - val_mean_squared_error: 0.0058\n",
            "Epoch 18/300\n",
            "120/120 [==============================] - 6s 50ms/step - loss: 0.0053 - mean_squared_error: 0.0053 - val_loss: 0.0059 - val_mean_squared_error: 0.0059\n",
            "Epoch 19/300\n",
            "120/120 [==============================] - 6s 51ms/step - loss: 0.0053 - mean_squared_error: 0.0053 - val_loss: 0.0058 - val_mean_squared_error: 0.0058\n",
            "Epoch 20/300\n",
            "120/120 [==============================] - 6s 53ms/step - loss: 0.0052 - mean_squared_error: 0.0052 - val_loss: 0.0059 - val_mean_squared_error: 0.0059\n",
            "Epoch 21/300\n",
            "120/120 [==============================] - 6s 51ms/step - loss: 0.0052 - mean_squared_error: 0.0052 - val_loss: 0.0058 - val_mean_squared_error: 0.0058\n",
            "Epoch 22/300\n",
            "120/120 [==============================] - 6s 50ms/step - loss: 0.0052 - mean_squared_error: 0.0052 - val_loss: 0.0058 - val_mean_squared_error: 0.0058\n",
            "Epoch 23/300\n",
            "120/120 [==============================] - 6s 53ms/step - loss: 0.0052 - mean_squared_error: 0.0052 - val_loss: 0.0059 - val_mean_squared_error: 0.0059\n",
            "Epoch 24/300\n",
            "120/120 [==============================] - 6s 53ms/step - loss: 0.0052 - mean_squared_error: 0.0052 - val_loss: 0.0059 - val_mean_squared_error: 0.0059\n",
            "Epoch 25/300\n",
            "115/120 [===========================>..] - ETA: 0s - loss: 0.0052 - mean_squared_error: 0.0052"
          ]
        }
      ],
      "source": [
        "model.compile(optimizer='adam',\n",
        "              loss='mean_squared_error',\n",
        "              metrics=['mean_squared_error'])\n",
        "\n",
        "history = model.fit(X_train, y_train, batch_size=200,epochs=300, \n",
        "                    validation_data=(X_valid, y_valid))"
      ]
    },
    {
      "cell_type": "code",
      "execution_count": 9,
      "metadata": {
        "colab": {
          "base_uri": "https://localhost:8080/",
          "height": 192
        },
        "id": "CEYi-tA11E_h",
        "outputId": "a6d4d5ec-2bc3-4ca6-e39a-e27463c58497"
      },
      "outputs": [
        {
          "data": {
            "text/plain": [
              "<matplotlib.image.AxesImage at 0x7f0ba4cb3610>"
            ]
          },
          "execution_count": 9,
          "metadata": {},
          "output_type": "execute_result"
        },
        {
          "data": {
            "image/png": "[encoded data removed]",
            "text/plain": [
              "<Figure size 432x288 with 1 Axes>"
            ]
          },
          "metadata": {
            "needs_background": "light"
          },
          "output_type": "display_data"
        }
      ],
      "source": [
        "test = X_train.reshape([-1,30, 80,1])\n",
        "plt.imshow(test[0][:,:,0])\n"
      ]
    }
  ],
  "metadata": {
    "accelerator": "GPU",
    "colab": {
      "collapsed_sections": [
        "9S70acHFspzh"
      ],
      "name": "CNN-regression.ipynb",
      "provenance": []
    },
    "gpuClass": "standard",
    "kernelspec": {
      "display_name": "Python 3.9.12 ('base')",
      "language": "python",
      "name": "python3"
    },
    "language_info": {
      "name": "python",
      "version": "3.9.12"
    },
    "vscode": {
      "interpreter": {
        "hash": "4cd5e88b29161f3ad711053d4f6474fdecf613990d940c4f7c407d34267ad33b"
      }
    }
  },
  "nbformat": 4,
  "nbformat_minor": 0
}
