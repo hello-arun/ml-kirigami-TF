{
  "cells": [
    {
      "cell_type": "code",
      "execution_count": 1,
      "metadata": {
        "colab": {
          "base_uri": "https://localhost:8080/"
        },
        "id": "dZG149sjfrvS",
        "outputId": "501abe12-6c61-4773-a6ce-0edd91ba40ec"
      },
      "outputs": [
        {
          "name": "stderr",
          "output_type": "stream",
          "text": [
            "2022-09-01 02:51:36.325878: W tensorflow/stream_executor/platform/default/dso_loader.cc:64] Could not load dynamic library 'libcudart.so.11.0'; dlerror: libcudart.so.11.0: cannot open shared object file: No such file or directory\n",
            "2022-09-01 02:51:36.325912: I tensorflow/stream_executor/cuda/cudart_stub.cc:29] Ignore above cudart dlerror if you do not have a GPU set up on your machine.\n"
          ]
        },
        {
          "name": "stdout",
          "output_type": "stream",
          "text": [
            "2.9.1\n"
          ]
        }
      ],
      "source": [
        "# %tensorflow_version 2.x  # this line is not required unless you are in a notebook\n",
        "import tensorflow as tf\n",
        "print(tf.__version__)\n",
        "import matplotlib\n",
        "# matplotlib.use('TKAgg')\n",
        "from tensorflow.keras import datasets, layers, models\n",
        "import matplotlib.pyplot as plt\n",
        "import numpy as np\n",
        "PROJECT_DIR = \"../../\""
      ]
    },
    {
      "cell_type": "markdown",
      "metadata": {
        "id": "8ejWJTvRsUIz"
      },
      "source": [
        "## Helper class"
      ]
    },
    {
      "cell_type": "code",
      "execution_count": 2,
      "metadata": {
        "id": "OJHFWAjkhHj0"
      },
      "outputs": [],
      "source": [
        "class Helper:\n",
        "    import numpy as np\n",
        "\n",
        "    def make_fine_grid(self,raw_data, n_corse_x = 3, n_corse_y = 5, n_fine_x = 30, n_fine_y = 80):\n",
        "        listFG = []  # List Fine Grid\n",
        "        N = len(raw_data)\n",
        "        for i in range(N):\n",
        "            print(f\"Pre Processing {i+1:05d}/{N}, {100*(i+1)//N}%\",end=\"\\r\")\n",
        "            kirigami_config = raw_data[i, 0:15]\n",
        "            inner_wCuts = self.corse_to_fine_config(\n",
        "                kirigami_config, n_corse_x, n_corse_y, n_fine_x, n_fine_y)\n",
        "            listFG.append(inner_wCuts)\n",
        "\n",
        "        alldata_FG = np.array(listFG)\n",
        "        alldata_FG = np.append(alldata_FG, raw_data[:, -3:], 1)\n",
        "        return alldata_FG\n",
        "\n",
        "    def corse_to_fine_config(self,kirigami_config, n_corse_x, n_corse_y, n_fine_x, n_fine_y):\n",
        "        \"\"\"\n",
        "        Make Fine Grid using corse grid\n",
        "        0 5 10     0  80  160 ... 2320\n",
        "        1 6 11     .  .    .  ... .\n",
        "        2 7 12  => .  .    .  ... .\n",
        "        3 8 13     .  .    .  ... .\n",
        "        4 9 14     79 159 239 ... 2399\n",
        "\n",
        "        Parameters\n",
        "        --------------------\n",
        "        kirigami_config: Corse Kirigami config of size n_corse_x * n_corse_y\n",
        "        return: Fine grid 1D array of size n_fine_x*n_fine_y\n",
        "        \"\"\"\n",
        "        fine_grid = np.ones((n_fine_x,n_fine_y))\n",
        "        mx, my = n_fine_x//n_corse_x, n_fine_y//n_corse_y  # 10 16\n",
        "        zeros = np.array([1]*mx)[:,np.newaxis]\n",
        "        zeros[mx//3:2*mx//3+1]=0\n",
        "        # ONLY MAKE CUTS inside the INNER REGION !!\n",
        "        for index,num in enumerate(kirigami_config):\n",
        "            if num == 0:\n",
        "                i_corse_x = index // n_corse_y\n",
        "                i_corse_y = index % n_corse_y\n",
        "                fine_grid[mx*i_corse_x:mx*(i_corse_x+1),my*i_corse_y:my*(i_corse_y+1)] = zeros\n",
        "        return fine_grid.flatten()\n",
        "\n",
        "    def split_data(self,x, y, frac_training, frac_test):\n",
        "        \"\"\"\n",
        "        Parameters\n",
        "        ----------------------------\n",
        "        x: numpy matrix \n",
        "        y: numpy array\n",
        "        percentage_test: float \n",
        "            percentage of data to be set for test set\n",
        "        Return\n",
        "        -------------------\n",
        "        X_train, X_valid, X_test, y_train, y_valid, y_test\n",
        "\n",
        "        \"\"\"\n",
        "        frac_valid = 1 - frac_training - frac_test\n",
        "        ntrain = int(frac_training * len(x))\n",
        "        nvalid = int(frac_valid * len(x))\n",
        "        # ntest = int(frac_test * len(x))\n",
        "\n",
        "        X_train = x[:ntrain].reshape((-1,30,80,1))\n",
        "        X_valid = x[ntrain:ntrain+nvalid].reshape((-1,30,80,1))\n",
        "        X_test = x[ntrain+nvalid:].reshape((-1,30,80,1))\n",
        "\n",
        "        y_train = y[:ntrain]\n",
        "        y_valid = y[ntrain:ntrain+nvalid]\n",
        "        y_test =  y[ntrain+nvalid:]\n",
        "        # [:,np.newaxis] to convert it to column array\n",
        "        return X_train, X_valid, X_test, y_train[:,np.newaxis], y_valid[:,np.newaxis], y_test[:,np.newaxis]\n",
        "helper = Helper()"
      ]
    },
    {
      "cell_type": "markdown",
      "metadata": {
        "id": "9S70acHFspzh"
      },
      "source": [
        "## Prepare Dataset\n",
        "We conver coarse grid data to fine grid data using helper class"
      ]
    },
    {
      "cell_type": "code",
      "execution_count": 3,
      "metadata": {
        "id": "dGaSVmR3gI56"
      },
      "outputs": [
        {
          "name": "stdout",
          "output_type": "stream",
          "text": [
            "Pre Processing 29791/29791, 100%\r"
          ]
        }
      ],
      "source": [
        "alldata_15G = np.loadtxt(f'{PROJECT_DIR}/raw/alldata_15G.dat')\n",
        "alldata_FG  = helper.make_fine_grid(alldata_15G)\n",
        "# Shuffle the data althought not needed as it is already suffled\n",
        "# np.random.shuffle(alldata_FG)"
      ]
    },
    {
      "cell_type": "markdown",
      "metadata": {
        "id": "VeOarrgEtfVi"
      },
      "source": [
        "## Split Test Train"
      ]
    },
    {
      "cell_type": "code",
      "execution_count": 4,
      "metadata": {
        "colab": {
          "base_uri": "https://localhost:8080/"
        },
        "id": "yC46CrU4tlWM",
        "outputId": "137e0969-375e-48cd-a0aa-8c4a3df1abcd"
      },
      "outputs": [
        {
          "name": "stdout",
          "output_type": "stream",
          "text": [
            "No of featues: 2400 \n",
            "Property index: -1\n",
            "Max Prop 107.9651\n",
            "Training 23832\n",
            "Validation 2979\n",
            "Tesing 2980\n",
            "(23832, 30, 80, 1) (23832, 1)\n"
          ]
        }
      ],
      "source": [
        "__FEATURES = len(alldata_FG[0])-3\n",
        "__PROP_INDEX = -1  # -3: Strain, -1: Stress \n",
        "print(\"No of featues:\",__FEATURES,\"\\nProperty index:\",__PROP_INDEX)\n",
        "__PROP_DATA = alldata_FG[:,__PROP_INDEX]\n",
        "__MAX_PROP = np.max(__PROP_DATA)\n",
        "print(\"Max Prop\",__MAX_PROP)\n",
        "__PROP_DATA /= np.max(__PROP_DATA)  # Rescale 0 to 1\n",
        "X_train, X_valid, X_test, y_train, y_valid, y_test = helper.split_data(alldata_FG[:,0:__FEATURES], __PROP_DATA, 0.8, 0.1)\n",
        "print(\"Training\",len(X_train))\n",
        "print(\"Validation\",len(X_valid))\n",
        "print(\"Tesing\",len(X_test))\n",
        "print(X_train.shape,y_train.shape)"
      ]
    },
    {
      "cell_type": "markdown",
      "metadata": {
        "id": "Cuxttlngu3Kh"
      },
      "source": [
        "## Regression Model"
      ]
    },
    {
      "cell_type": "code",
      "execution_count": 5,
      "metadata": {
        "id": "7c5g_aqMu5dh"
      },
      "outputs": [
        {
          "name": "stderr",
          "output_type": "stream",
          "text": [
            "2022-09-01 02:51:49.334934: W tensorflow/stream_executor/platform/default/dso_loader.cc:64] Could not load dynamic library 'libcudart.so.11.0'; dlerror: libcudart.so.11.0: cannot open shared object file: No such file or directory\n",
            "2022-09-01 02:51:49.335191: W tensorflow/stream_executor/platform/default/dso_loader.cc:64] Could not load dynamic library 'libcublas.so.11'; dlerror: libcublas.so.11: cannot open shared object file: No such file or directory\n",
            "2022-09-01 02:51:49.335353: W tensorflow/stream_executor/platform/default/dso_loader.cc:64] Could not load dynamic library 'libcublasLt.so.11'; dlerror: libcublasLt.so.11: cannot open shared object file: No such file or directory\n",
            "2022-09-01 02:51:49.335504: W tensorflow/stream_executor/platform/default/dso_loader.cc:64] Could not load dynamic library 'libcufft.so.10'; dlerror: libcufft.so.10: cannot open shared object file: No such file or directory\n",
            "2022-09-01 02:51:49.335652: W tensorflow/stream_executor/platform/default/dso_loader.cc:64] Could not load dynamic library 'libcurand.so.10'; dlerror: libcurand.so.10: cannot open shared object file: No such file or directory\n",
            "2022-09-01 02:51:49.335801: W tensorflow/stream_executor/platform/default/dso_loader.cc:64] Could not load dynamic library 'libcusolver.so.11'; dlerror: libcusolver.so.11: cannot open shared object file: No such file or directory\n",
            "2022-09-01 02:51:49.335947: W tensorflow/stream_executor/platform/default/dso_loader.cc:64] Could not load dynamic library 'libcusparse.so.11'; dlerror: libcusparse.so.11: cannot open shared object file: No such file or directory\n",
            "2022-09-01 02:51:49.336095: W tensorflow/stream_executor/platform/default/dso_loader.cc:64] Could not load dynamic library 'libcudnn.so.8'; dlerror: libcudnn.so.8: cannot open shared object file: No such file or directory\n",
            "2022-09-01 02:51:49.336126: W tensorflow/core/common_runtime/gpu/gpu_device.cc:1850] Cannot dlopen some GPU libraries. Please make sure the missing libraries mentioned above are installed properly if you would like to use GPU. Follow the guide at https://www.tensorflow.org/install/gpu for how to download and setup the required libraries for your platform.\n",
            "Skipping registering GPU devices...\n",
            "2022-09-01 02:51:49.336930: I tensorflow/core/platform/cpu_feature_guard.cc:193] This TensorFlow binary is optimized with oneAPI Deep Neural Network Library (oneDNN) to use the following CPU instructions in performance-critical operations:  AVX2 FMA\n",
            "To enable them in other operations, rebuild TensorFlow with the appropriate compiler flags.\n"
          ]
        }
      ],
      "source": [
        "n_hidden=64\n",
        "model = models.Sequential()\n",
        "# Filters:16, Kernal:3x3\n",
        "model.add(layers.Conv2D(\n",
        "    input_shape = (30,80,1),\n",
        "    filters = 16,\n",
        "    kernel_size = [3,3],\n",
        "    padding=\"same\",\n",
        "    activation=\"relu\"))\n",
        "# Max Pooling, kernel:2x2, strides:2 \n",
        "model.add(layers.MaxPooling2D((2,2),2))\n",
        "# Filters:32, Kernal:3x3\n",
        "model.add(layers.Conv2D(32,(3,3),activation=\"relu\"))\n",
        "# Max Pooling, kernel:2x2, strides:2 \n",
        "model.add(layers.MaxPooling2D((2,2),2))\n",
        "# Filters:64, Kernal:3x3\n",
        "model.add(layers.Conv2D(64,(3,3),activation=\"relu\"))\n",
        "# Max Pooling, kernel:2x2, strides:2 \n",
        "model.add(layers.MaxPooling2D((2,2),2))\n",
        "\n",
        "# Flatten for the fully connected layer\n",
        "model.add(layers.Flatten())\n",
        "# Fully connected layer 64:Neuron\n",
        "model.add(layers.Dense(n_hidden,activation=\"relu\"))\n",
        "model.add(layers.Dense(1,activation=\"linear\"))"
      ]
    },
    {
      "cell_type": "code",
      "execution_count": 6,
      "metadata": {
        "colab": {
          "base_uri": "https://localhost:8080/"
        },
        "id": "17mNOZOyysvk",
        "outputId": "8fecd3e4-c2ac-44d2-a539-8e277a8dc40a"
      },
      "outputs": [
        {
          "name": "stdout",
          "output_type": "stream",
          "text": [
            "Model: \"sequential\"\n",
            "_________________________________________________________________\n",
            " Layer (type)                Output Shape              Param #   \n",
            "=================================================================\n",
            " conv2d (Conv2D)             (None, 30, 80, 16)        160       \n",
            "                                                                 \n",
            " max_pooling2d (MaxPooling2D  (None, 15, 40, 16)       0         \n",
            " )                                                               \n",
            "                                                                 \n",
            " conv2d_1 (Conv2D)           (None, 13, 38, 32)        4640      \n",
            "                                                                 \n",
            " max_pooling2d_1 (MaxPooling  (None, 6, 19, 32)        0         \n",
            " 2D)                                                             \n",
            "                                                                 \n",
            " conv2d_2 (Conv2D)           (None, 4, 17, 64)         18496     \n",
            "                                                                 \n",
            " max_pooling2d_2 (MaxPooling  (None, 2, 8, 64)         0         \n",
            " 2D)                                                             \n",
            "                                                                 \n",
            " flatten (Flatten)           (None, 1024)              0         \n",
            "                                                                 \n",
            " dense (Dense)               (None, 64)                65600     \n",
            "                                                                 \n",
            " dense_1 (Dense)             (None, 1)                 65        \n",
            "                                                                 \n",
            "=================================================================\n",
            "Total params: 88,961\n",
            "Trainable params: 88,961\n",
            "Non-trainable params: 0\n",
            "_________________________________________________________________\n"
          ]
        }
      ],
      "source": [
        "model.summary()"
      ]
    },
    {
      "cell_type": "code",
      "execution_count": 7,
      "metadata": {
        "colab": {
          "base_uri": "https://localhost:8080/"
        },
        "id": "33tWPlxnzNhz",
        "outputId": "4db96930-20a8-4e7b-f36e-8b60d1c558fa"
      },
      "outputs": [
        {
          "name": "stdout",
          "output_type": "stream",
          "text": [
            "Epoch 1/30\n",
            "120/120 [==============================] - 4s 29ms/step - loss: 0.0101 - mean_squared_error: 0.0101 - val_loss: 0.0029 - val_mean_squared_error: 0.0029\n",
            "Epoch 2/30\n",
            "120/120 [==============================] - 4s 33ms/step - loss: 0.0023 - mean_squared_error: 0.0023 - val_loss: 0.0024 - val_mean_squared_error: 0.0024\n",
            "Epoch 3/30\n",
            "120/120 [==============================] - 3s 29ms/step - loss: 0.0019 - mean_squared_error: 0.0019 - val_loss: 0.0018 - val_mean_squared_error: 0.0018\n",
            "Epoch 4/30\n",
            "120/120 [==============================] - 3s 28ms/step - loss: 0.0017 - mean_squared_error: 0.0017 - val_loss: 0.0014 - val_mean_squared_error: 0.0014\n",
            "Epoch 5/30\n",
            "120/120 [==============================] - 3s 29ms/step - loss: 0.0015 - mean_squared_error: 0.0015 - val_loss: 0.0018 - val_mean_squared_error: 0.0018\n",
            "Epoch 6/30\n",
            "120/120 [==============================] - 3s 28ms/step - loss: 0.0013 - mean_squared_error: 0.0013 - val_loss: 0.0011 - val_mean_squared_error: 0.0011\n",
            "Epoch 7/30\n",
            "120/120 [==============================] - 3s 27ms/step - loss: 0.0012 - mean_squared_error: 0.0012 - val_loss: 0.0011 - val_mean_squared_error: 0.0011\n",
            "Epoch 8/30\n",
            "120/120 [==============================] - 3s 27ms/step - loss: 0.0011 - mean_squared_error: 0.0011 - val_loss: 0.0010 - val_mean_squared_error: 0.0010\n",
            "Epoch 9/30\n",
            "120/120 [==============================] - 3s 28ms/step - loss: 9.7872e-04 - mean_squared_error: 9.7872e-04 - val_loss: 0.0013 - val_mean_squared_error: 0.0013\n",
            "Epoch 10/30\n",
            "120/120 [==============================] - 3s 28ms/step - loss: 9.2136e-04 - mean_squared_error: 9.2136e-04 - val_loss: 0.0011 - val_mean_squared_error: 0.0011\n",
            "Epoch 11/30\n",
            "120/120 [==============================] - 3s 28ms/step - loss: 8.1859e-04 - mean_squared_error: 8.1859e-04 - val_loss: 7.9866e-04 - val_mean_squared_error: 7.9866e-04\n",
            "Epoch 12/30\n",
            "120/120 [==============================] - 3s 28ms/step - loss: 8.4268e-04 - mean_squared_error: 8.4268e-04 - val_loss: 7.6766e-04 - val_mean_squared_error: 7.6766e-04\n",
            "Epoch 13/30\n",
            "120/120 [==============================] - 3s 28ms/step - loss: 8.2492e-04 - mean_squared_error: 8.2492e-04 - val_loss: 7.2650e-04 - val_mean_squared_error: 7.2650e-04\n",
            "Epoch 14/30\n",
            "120/120 [==============================] - 3s 28ms/step - loss: 7.1997e-04 - mean_squared_error: 7.1997e-04 - val_loss: 7.4020e-04 - val_mean_squared_error: 7.4020e-04\n",
            "Epoch 15/30\n",
            "120/120 [==============================] - 3s 28ms/step - loss: 7.0812e-04 - mean_squared_error: 7.0812e-04 - val_loss: 7.2554e-04 - val_mean_squared_error: 7.2554e-04\n",
            "Epoch 16/30\n",
            "120/120 [==============================] - 3s 28ms/step - loss: 7.0995e-04 - mean_squared_error: 7.0995e-04 - val_loss: 7.0776e-04 - val_mean_squared_error: 7.0776e-04\n",
            "Epoch 17/30\n",
            "120/120 [==============================] - 3s 29ms/step - loss: 6.9575e-04 - mean_squared_error: 6.9575e-04 - val_loss: 7.6092e-04 - val_mean_squared_error: 7.6092e-04\n",
            "Epoch 18/30\n",
            "120/120 [==============================] - 3s 28ms/step - loss: 7.3102e-04 - mean_squared_error: 7.3102e-04 - val_loss: 7.4701e-04 - val_mean_squared_error: 7.4701e-04\n",
            "Epoch 19/30\n",
            "120/120 [==============================] - 3s 29ms/step - loss: 6.4378e-04 - mean_squared_error: 6.4378e-04 - val_loss: 6.5966e-04 - val_mean_squared_error: 6.5966e-04\n",
            "Epoch 20/30\n",
            "120/120 [==============================] - 3s 29ms/step - loss: 6.5361e-04 - mean_squared_error: 6.5361e-04 - val_loss: 7.9569e-04 - val_mean_squared_error: 7.9569e-04\n",
            "Epoch 21/30\n",
            "120/120 [==============================] - 3s 28ms/step - loss: 6.4498e-04 - mean_squared_error: 6.4498e-04 - val_loss: 6.3275e-04 - val_mean_squared_error: 6.3275e-04\n",
            "Epoch 22/30\n",
            "120/120 [==============================] - 3s 29ms/step - loss: 6.7935e-04 - mean_squared_error: 6.7935e-04 - val_loss: 6.6623e-04 - val_mean_squared_error: 6.6623e-04\n",
            "Epoch 23/30\n",
            "120/120 [==============================] - 3s 28ms/step - loss: 6.5940e-04 - mean_squared_error: 6.5940e-04 - val_loss: 6.2567e-04 - val_mean_squared_error: 6.2567e-04\n",
            "Epoch 24/30\n",
            "120/120 [==============================] - 3s 28ms/step - loss: 6.2280e-04 - mean_squared_error: 6.2280e-04 - val_loss: 7.3524e-04 - val_mean_squared_error: 7.3524e-04\n",
            "Epoch 25/30\n",
            "120/120 [==============================] - 3s 28ms/step - loss: 6.1929e-04 - mean_squared_error: 6.1929e-04 - val_loss: 7.2876e-04 - val_mean_squared_error: 7.2876e-04\n",
            "Epoch 26/30\n",
            "120/120 [==============================] - 3s 28ms/step - loss: 6.2833e-04 - mean_squared_error: 6.2833e-04 - val_loss: 0.0010 - val_mean_squared_error: 0.0010\n",
            "Epoch 27/30\n",
            "120/120 [==============================] - 3s 27ms/step - loss: 6.4197e-04 - mean_squared_error: 6.4197e-04 - val_loss: 8.5705e-04 - val_mean_squared_error: 8.5705e-04\n",
            "Epoch 28/30\n",
            "120/120 [==============================] - 3s 27ms/step - loss: 6.2147e-04 - mean_squared_error: 6.2147e-04 - val_loss: 9.2119e-04 - val_mean_squared_error: 9.2119e-04\n",
            "Epoch 29/30\n",
            "120/120 [==============================] - 3s 27ms/step - loss: 6.1498e-04 - mean_squared_error: 6.1498e-04 - val_loss: 6.7268e-04 - val_mean_squared_error: 6.7268e-04\n",
            "Epoch 30/30\n",
            "120/120 [==============================] - 3s 27ms/step - loss: 6.3791e-04 - mean_squared_error: 6.3791e-04 - val_loss: 7.2787e-04 - val_mean_squared_error: 7.2787e-04\n"
          ]
        },
        {
          "name": "stderr",
          "output_type": "stream",
          "text": [
            "WARNING:absl:Found untraced functions such as _jit_compiled_convolution_op, _jit_compiled_convolution_op, _jit_compiled_convolution_op while saving (showing 3 of 3). These functions will not be directly callable after loading.\n"
          ]
        },
        {
          "name": "stdout",
          "output_type": "stream",
          "text": [
            "INFO:tensorflow:Assets written to: ./models/01-regression/stress-f16-f32-f64-h64/assets\n"
          ]
        },
        {
          "name": "stderr",
          "output_type": "stream",
          "text": [
            "INFO:tensorflow:Assets written to: ./models/01-regression/stress-f16-f32-f64-h64/assets\n"
          ]
        }
      ],
      "source": [
        "model.compile(optimizer='adam',\n",
        "              loss='mean_squared_error',\n",
        "              metrics=['mean_squared_error'])\n",
        "\n",
        "history = model.fit(X_train, y_train, batch_size=200,epochs=30, \n",
        "                    validation_data=(X_valid, y_valid))\n",
        "model.save(f\"./models/01-regression/stress-f16-f32-f64-h{n_hidden}\")"
      ]
    },
    {
      "cell_type": "markdown",
      "metadata": {},
      "source": [
        "## Load the saved model"
      ]
    },
    {
      "cell_type": "code",
      "execution_count": 8,
      "metadata": {},
      "outputs": [],
      "source": [
        "# model = models.load_model(f\"./models/01-regression/stress-f16-f32-f64-h{n_hidden}\")"
      ]
    },
    {
      "cell_type": "code",
      "execution_count": 9,
      "metadata": {
        "colab": {
          "base_uri": "https://localhost:8080/",
          "height": 192
        },
        "id": "CEYi-tA11E_h",
        "outputId": "a6d4d5ec-2bc3-4ca6-e39a-e27463c58497"
      },
      "outputs": [
        {
          "name": "stdout",
          "output_type": "stream",
          "text": [
            "745/745 [==============================] - 3s 4ms/step\n",
            "745/745 [==============================] - 3s 4ms/step\n",
            "94/94 [==============================] - 0s 4ms/step\n",
            "94/94 [==============================] - 0s 4ms/step\n",
            "94/94 [==============================] - 0s 4ms/step\n",
            "94/94 [==============================] - 0s 4ms/step\n",
            "23832\n",
            "Train: RMSE: 2.80, R2: 0.97\n",
            "Valid.:- RMSE: 2.91, R2: 0.97\n",
            "Test:- RMSE: 2.96, R2: 0.97\n",
            "94/94 [==============================] - 0s 4ms/step\n"
          ]
        }
      ],
      "source": [
        "def R_squared(y, y_pred):\n",
        "  residual = tf.reduce_sum(tf.square(tf.subtract(y, y_pred)))\n",
        "  total = tf.reduce_sum(tf.square(tf.subtract(y, tf.reduce_mean(y))))\n",
        "  r2 = tf.subtract(1.0, tf.divide(residual, total))\n",
        "  return r2\n",
        "\n",
        "\n",
        "mse_train = tf.keras.metrics.mean_squared_error(\n",
        "    y_train, model.predict(X_train)\n",
        ")\n",
        "r2_train = R_squared(\n",
        "    y_train, model.predict(X_train)\n",
        ")\n",
        "\n",
        "\n",
        "mse_val = tf.keras.metrics.mean_squared_error(\n",
        "    y_valid, model.predict(X_valid)\n",
        ")\n",
        "r2_val = R_squared(\n",
        "    y_valid, model.predict(X_valid)\n",
        ")\n",
        "\n",
        "\n",
        "mse_test = tf.keras.metrics.mean_squared_error(\n",
        "    y_test, model.predict(X_test)\n",
        ")\n",
        "r2_test = R_squared(\n",
        "    y_test, model.predict(X_test)\n",
        ")\n",
        "print(len(mse_train))\n",
        "train_stats=f\"Train: RMSE: {np.sqrt(np.mean(mse_train))*__MAX_PROP:0.2f}, R2: {np.mean(r2_train):0.2f}\"\n",
        "validation_stats=f\"Valid.:- RMSE: {np.sqrt(np.mean(mse_val))*__MAX_PROP:0.2f}, R2: {np.mean(r2_val):0.2f}\"\n",
        "test_stats=f\"Test:- RMSE: {np.sqrt(np.mean(mse_test))*__MAX_PROP:0.2f}, R2: {np.mean(r2_test):0.2f}\"\n",
        "print(train_stats)\n",
        "print(validation_stats)\n",
        "print(test_stats)\n",
        "y_pred = model.predict(X_test)\n",
        "xx = y_pred.flatten()\n",
        "yy = y_test.flatten()\n",
        "#plt.plot([0,1],[1,0])"
      ]
    },
    {
      "cell_type": "code",
      "execution_count": 10,
      "metadata": {},
      "outputs": [
        {
          "name": "stdout",
          "output_type": "stream",
          "text": [
            "94/94 [==============================] - 0s 4ms/step\n",
            "745/745 [==============================] - 3s 4ms/step\n",
            "94/94 [==============================] - 0s 4ms/step\n",
            "94/94 [==============================] - 0s 4ms/step\n"
          ]
        },
        {
          "data": {
            "image/png": "[encoded data removed]",
            "text/plain": [
              "<Figure size 864x288 with 3 Axes>"
            ]
          },
          "metadata": {
            "needs_background": "light"
          },
          "output_type": "display_data"
        }
      ],
      "source": [
        "y_pred = model.predict(X_test)\n",
        "xx = y_pred.flatten()\n",
        "yy = y_test.flatten()\n",
        "fig,(ax1,ax2,ax3)=plt.subplots(1,3)\n",
        "fig.set_size_inches(12,4)\n",
        "ax1.plot( model.predict(X_train).flatten()*__MAX_PROP,y_train.flatten()*__MAX_PROP,\".\",label=train_stats)\n",
        "ax2.plot( model.predict(X_valid).flatten()*__MAX_PROP,y_valid.flatten()*__MAX_PROP,\".\",label=validation_stats)\n",
        "ax3.plot( model.predict(X_test).flatten()*__MAX_PROP,y_test.flatten()*__MAX_PROP,\".\",label=test_stats)\n",
        "\n",
        "for ax in (ax1,ax2,ax3):\n",
        "    ax.plot([0,__MAX_PROP],[0,__MAX_PROP],\"r--\",lw=2.0)\n",
        "    ax.legend()\n",
        "    ax.set_xlabel(\"Predicted Stress(GPa)\")\n",
        "    ax.set_ylabel(\"True Stress(GPa)\")\n",
        "    # ax.set_xlim([0,1])\n",
        "    # ax.set_ylim([0,1])\n",
        "plt.tight_layout()\n",
        "plt.savefig(\"./results/01-regression-stress.png\",dpi=300)\n",
        "plt.show()"
      ]
    }
  ],
  "metadata": {
    "accelerator": "GPU",
    "colab": {
      "collapsed_sections": [
        "9S70acHFspzh"
      ],
      "name": "CNN-regression.ipynb",
      "provenance": []
    },
    "gpuClass": "standard",
    "kernelspec": {
      "display_name": "Python 3.10.4 (conda)",
      "language": "python",
      "name": "python3"
    },
    "language_info": {
      "codemirror_mode": {
        "name": "ipython",
        "version": 3
      },
      "file_extension": ".py",
      "mimetype": "text/x-python",
      "name": "python",
      "nbconvert_exporter": "python",
      "pygments_lexer": "ipython3",
      "version": "3.10.4"
    },
    "vscode": {
      "interpreter": {
        "hash": "091a525c9d5df072626171aed611359ef4003a1f6bfb9b336d556df39ecfb8de"
      }
    }
  },
  "nbformat": 4,
  "nbformat_minor": 0
}
